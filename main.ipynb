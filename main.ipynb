{
 "cells": [
  {
   "cell_type": "code",
   "execution_count": 1,
   "id": "f6a8ea0d",
   "metadata": {},
   "outputs": [],
   "source": [
    "# project: p5\n",
    "# submitter: csharma4@wisc.edu\n",
    "# partner: none\n",
    "# hours: 2"
   ]
  },
  {
   "cell_type": "code",
   "execution_count": 2,
   "id": "586c3cc1",
   "metadata": {},
   "outputs": [],
   "source": [
    "import project\n",
    "import math\n",
    "import datetime"
   ]
  },
  {
   "cell_type": "code",
   "execution_count": 3,
   "id": "3d904420",
   "metadata": {},
   "outputs": [
    {
     "name": "stdout",
     "output_type": "stream",
     "text": [
      "Help on module project:\n",
      "\n",
      "NAME\n",
      "    project\n",
      "\n",
      "FUNCTIONS\n",
      "    __init__()\n",
      "    \n",
      "    count()\n",
      "        This function will return the number of records in the dataset\n",
      "    \n",
      "    get_damage(idx)\n",
      "        get_damage(idx) returns the damage in dollars of the hurricane in row idx\n",
      "    \n",
      "    get_deaths(idx)\n",
      "        get_deaths(idx) returns the deaths of the hurricane in row idx\n",
      "    \n",
      "    get_dissipated(idx)\n",
      "        get_dissipated(idx) returns the date of dissipation of the hurricane in row idx\n",
      "    \n",
      "    get_formed(idx)\n",
      "        get_formed(idx) returns the date of formation of the hurricane in row idx\n",
      "    \n",
      "    get_mph(idx)\n",
      "        get_mph(idx) returns the mph of the hurricane in row idx\n",
      "    \n",
      "    get_name(idx)\n",
      "        get_name(idx) returns the name of the hurricane in row idx\n",
      "\n",
      "DATA\n",
      "    __hurricane__ = [{'damage': '2.55M', 'deaths': '38', 'dissipated': '09...\n",
      "\n",
      "FILE\n",
      "    c:\\users\\miac0\\documents\\cs220\\p5\\project.py\n",
      "\n",
      "\n"
     ]
    }
   ],
   "source": [
    "help(project)"
   ]
  },
  {
   "cell_type": "code",
   "execution_count": 4,
   "id": "64b60384",
   "metadata": {},
   "outputs": [
    {
     "data": {
      "text/plain": [
       "144"
      ]
     },
     "execution_count": 4,
     "metadata": {},
     "output_type": "execute_result"
    }
   ],
   "source": [
    "#Q1: How many hurricanes does the dataset have?\n",
    "project.count()"
   ]
  },
  {
   "cell_type": "code",
   "execution_count": 5,
   "id": "10158012",
   "metadata": {},
   "outputs": [
    {
     "data": {
      "text/plain": [
       "37"
      ]
     },
     "execution_count": 5,
     "metadata": {},
     "output_type": "execute_result"
    }
   ],
   "source": [
    "#Q2: How many deaths were caused by the hurricane at index 138?\n",
    "project.get_deaths(138)"
   ]
  },
  {
   "cell_type": "code",
   "execution_count": 6,
   "id": "940e0372",
   "metadata": {},
   "outputs": [
    {
     "data": {
      "text/plain": [
       "130"
      ]
     },
     "execution_count": 6,
     "metadata": {},
     "output_type": "execute_result"
    }
   ],
   "source": [
    "#Q3: What is the MPH of the hurricane at the last index?\n",
    "project.get_mph(int(project.count())-1)"
   ]
  },
  {
   "cell_type": "code",
   "execution_count": 7,
   "id": "a1eeb49e",
   "metadata": {},
   "outputs": [
    {
     "name": "stdout",
     "output_type": "stream",
     "text": [
      "2\n"
     ]
    }
   ],
   "source": [
    "#Q4: How many hurricanes named Sally are in the dataset? \n",
    "count = 0;\n",
    "for idx in range(project.count()):\n",
    "    name = project.get_name(idx).lower()\n",
    "    if name == \"sally\":\n",
    "        count += 1\n",
    "print(count)"
   ]
  },
  {
   "cell_type": "code",
   "execution_count": 8,
   "id": "30647efc",
   "metadata": {},
   "outputs": [
    {
     "name": "stdout",
     "output_type": "stream",
     "text": [
      "195\n"
     ]
    }
   ],
   "source": [
    "#Q5: What is the fastest speed (in MPH) of a hurricane in the dataset?\n",
    "fastest_hurr_idx = None\n",
    "max_speed = 0\n",
    "for idx in range(project.count()):\n",
    "    current_speed = project.get_mph(idx)\n",
    "    if fastest_hurr_idx == None or current_speed > max_speed:\n",
    "        max_speed = current_speed\n",
    "        fastest_hurr_idx = idx\n",
    "if fastest_hurr_idx != None:\n",
    "    print(max_speed)"
   ]
  },
  {
   "cell_type": "code",
   "execution_count": 9,
   "id": "4dc5de01",
   "metadata": {},
   "outputs": [
    {
     "name": "stdout",
     "output_type": "stream",
     "text": [
      "75\n"
     ]
    }
   ],
   "source": [
    "#Q6: What is the speed of the slowest hurricane (in MPH) recorded in the dataset?\n",
    "slowest_hurr_idx = None\n",
    "min_speed = 0\n",
    "for idx in range(project.count()):\n",
    "    current_speed = project.get_mph(idx)\n",
    "    if slowest_hurr_idx == None or current_speed < min_speed:\n",
    "        min_speed = current_speed\n",
    "        slowest_hurr_idx = idx\n",
    "if slowest_hurr_idx != None:\n",
    "    print(min_speed)"
   ]
  },
  {
   "cell_type": "code",
   "execution_count": 10,
   "id": "f9e5ab34",
   "metadata": {},
   "outputs": [],
   "source": [
    "def format_damage(damage):\n",
    "    #TODO: Check the last character of the string\n",
    "    variable = damage[len(damage)-1]\n",
    "    amt_damage = float(damage[:len(damage)-1])\n",
    "    final_num = 0\n",
    "    if variable == 'K':\n",
    "        final_num = amt_damage * float(1000)\n",
    "        return int(final_num)\n",
    "    if variable == 'M':\n",
    "        final_num = amt_damage * float(1000000)\n",
    "        return int(final_num)\n",
    "    if variable == 'B':\n",
    "        final_num = amt_damage * float(1000000000)\n",
    "        return int(final_num)"
   ]
  },
  {
   "cell_type": "code",
   "execution_count": 11,
   "id": "70b71a51",
   "metadata": {},
   "outputs": [
    {
     "name": "stdout",
     "output_type": "stream",
     "text": [
      "958107084997\n"
     ]
    }
   ],
   "source": [
    "#Q7: What is the total damage (in dollars) caused by all hurricanes recorded in the dataset?\n",
    "total = 0\n",
    "for i in range(project.count()):\n",
    "    individual = format_damage(project.get_damage(i))\n",
    "    total += individual\n",
    "print (total)"
   ]
  },
  {
   "cell_type": "code",
   "execution_count": 12,
   "id": "b9389f93",
   "metadata": {},
   "outputs": [
    {
     "name": "stdout",
     "output_type": "stream",
     "text": [
      "2678957142.86\n"
     ]
    }
   ],
   "source": [
    "#Q8: What is the average damage caused by hurricanes with names starting with the letter G?\n",
    "total = 0\n",
    "counter = 0\n",
    "for i in range(project.count()):\n",
    "    name = project.get_name(i)\n",
    "    if name[0] == 'G':\n",
    "        total += format_damage(project.get_damage(i))\n",
    "        counter += 1\n",
    "        average = total/counter\n",
    "print(round(average,2))"
   ]
  },
  {
   "cell_type": "code",
   "execution_count": 13,
   "id": "0a8d734f",
   "metadata": {},
   "outputs": [
    {
     "name": "stdout",
     "output_type": "stream",
     "text": [
      "SALly\n"
     ]
    }
   ],
   "source": [
    "#Q9: What is the name of the fastest hurricane in the dataset?\n",
    "fastest_hurr_idx = None\n",
    "max_speed = 0\n",
    "for idx in range(project.count()):\n",
    "    current_speed = project.get_mph(idx)\n",
    "    if fastest_hurr_idx == None or current_speed > max_speed:\n",
    "        max_speed = current_speed\n",
    "        fastest_hurr_idx = idx\n",
    "if fastest_hurr_idx != None:\n",
    "    print(project.get_name(fastest_hurr_idx))"
   ]
  },
  {
   "cell_type": "code",
   "execution_count": 14,
   "id": "1d41167a",
   "metadata": {},
   "outputs": [
    {
     "data": {
      "text/plain": [
       "1370000"
      ]
     },
     "execution_count": 14,
     "metadata": {},
     "output_type": "execute_result"
    }
   ],
   "source": [
    "#Q10: What is the damage (in dollars) caused by the fastest hurricane in the dataset?\n",
    "fastest_hurr_idx = None\n",
    "max_speed = 0\n",
    "for idx in range(project.count()):\n",
    "    current_speed = project.get_mph(idx)\n",
    "    if fastest_hurr_idx == None or current_speed > max_speed:\n",
    "        max_speed = current_speed\n",
    "        fastest_hurr_idx = idx\n",
    "format_damage(project.get_damage(fastest_hurr_idx))"
   ]
  },
  {
   "cell_type": "code",
   "execution_count": 15,
   "id": "f921dc08",
   "metadata": {},
   "outputs": [],
   "source": [
    "def get_month(date):\n",
    "    \"\"\"Returns the month when the date is the in the 'mm/dd/yyyy' format\"\"\"\n",
    "    return int(date[:2])\n",
    "\n",
    "def get_day(date):\n",
    "    \"\"\"Returns the day when the date is the in the 'mm/dd/yyyy' format\"\"\"\n",
    "    return int(date[3:5])  # TODO: Use string slicing to return the day\n",
    "\n",
    "def get_year(date):\n",
    "    \"\"\"Returns the year when the date is the in the 'mm/dd/yyyy' format\"\"\"\n",
    "    return int(date[6:10]) # TODO: Use string slicing to return the year"
   ]
  },
  {
   "cell_type": "code",
   "execution_count": 16,
   "id": "f3e843c5",
   "metadata": {},
   "outputs": [
    {
     "name": "stdout",
     "output_type": "stream",
     "text": [
      "San Ciriaco\n"
     ]
    }
   ],
   "source": [
    "#Q11: Out of all hurricanes with more than 1000 deaths, what is the name of the hurricane that originated (formed) first?\n",
    "earliest = 9999999999999999\n",
    "IDX = 0\n",
    "for idx in range(project.count()):\n",
    "    if project.get_deaths(idx) > 1000:\n",
    "        new = get_year(project.get_formed(idx))\n",
    "        if new < earliest:\n",
    "            earliest = new\n",
    "            IDX = idx\n",
    "print(project.get_name(IDX))"
   ]
  },
  {
   "cell_type": "code",
   "execution_count": 17,
   "id": "9b77063d",
   "metadata": {},
   "outputs": [],
   "source": [
    "def deadliest_in_range(year1, year2):\n",
    "    \"\"\"\n",
    "    Gets the index of the deadliest (most deaths) hurricane formed or dissipated within the given year range.\n",
    "    year1 and year2 are inclusive bounds.\n",
    "\n",
    "    Returns the index of the worst hurricane within the year range.\n",
    "    \"\"\"\n",
    "    max_death = 0\n",
    "    for idx in range(project.count()):\n",
    "         if year1 <= get_year(project.get_formed(idx)) <= year2:  \n",
    "                new = project.get_deaths(idx)\n",
    "                if new > max_death :\n",
    "                    max_death = new\n",
    "                    IDX = idx\n",
    "    return IDX"
   ]
  },
  {
   "cell_type": "code",
   "execution_count": 18,
   "id": "59f8874d",
   "metadata": {},
   "outputs": [
    {
     "name": "stdout",
     "output_type": "stream",
     "text": [
      "91610000000\n"
     ]
    }
   ],
   "source": [
    "#Q12: How much damage was done by the deadliest hurricane this century thus far (2001 to 2022, inclusive)?\n",
    "idx = deadliest_in_range(2001,2022)\n",
    "print(format_damage(project.get_damage(idx)))"
   ]
  },
  {
   "cell_type": "code",
   "execution_count": 19,
   "id": "2b3112f1",
   "metadata": {},
   "outputs": [
    {
     "name": "stdout",
     "output_type": "stream",
     "text": [
      "175\n"
     ]
    }
   ],
   "source": [
    "#Q13: What was the speed (in MPH) of the deadliest hurricane in the century that spans 1901 to 2000, inclusive?\n",
    "idx = deadliest_in_range(1901,2000)\n",
    "print(project.get_mph(idx))"
   ]
  },
  {
   "cell_type": "code",
   "execution_count": 20,
   "id": "a9ba1ec0",
   "metadata": {},
   "outputs": [
    {
     "name": "stdout",
     "output_type": "stream",
     "text": [
      "2017\n"
     ]
    }
   ],
   "source": [
    "#Q14: In this century (2001 to 2022, inclusive), which year has seen the deadliest hurricane so far?\n",
    "idx = deadliest_in_range(2001,2022)\n",
    "print(get_year(project.get_formed(idx)))"
   ]
  },
  {
   "cell_type": "code",
   "execution_count": 21,
   "id": "5bdfdbb4",
   "metadata": {},
   "outputs": [
    {
     "name": "stdout",
     "output_type": "stream",
     "text": [
      "Maria\n"
     ]
    }
   ],
   "source": [
    "#Q15: What is the name of the slowest hurricane which resulted in exactly 5 deaths?\n",
    "slowest = 0\n",
    "for i in range(project.count()):\n",
    "    if project.get_deaths(i) == 5:\n",
    "        new = project.get_mph(i)\n",
    "        if new < slowest:\n",
    "            slowest = new\n",
    "            idx = i\n",
    "print(project.get_name(idx))"
   ]
  },
  {
   "cell_type": "code",
   "execution_count": 22,
   "id": "1e667303",
   "metadata": {},
   "outputs": [],
   "source": [
    "def get_year_total(query_year):\n",
    "    \"\"\"Gets the number of hurricanes formed in the specified year\"\"\"\n",
    "    counter = 0\n",
    "    num = -1\n",
    "    for i in range(project.count()):\n",
    "        if get_year(project.get_formed(i)) == query_year:\n",
    "            counter += 1\n",
    "            num = counter\n",
    "    return num"
   ]
  },
  {
   "cell_type": "code",
   "execution_count": 23,
   "id": "0b14a4c1",
   "metadata": {},
   "outputs": [
    {
     "data": {
      "text/plain": [
       "5"
      ]
     },
     "execution_count": 23,
     "metadata": {},
     "output_type": "execute_result"
    }
   ],
   "source": [
    "#Q16: How many hurricanes were formed in the year 2020?\n",
    "get_year_total(2020)"
   ]
  },
  {
   "cell_type": "code",
   "execution_count": 24,
   "id": "c314af6b",
   "metadata": {},
   "outputs": [
    {
     "name": "stdout",
     "output_type": "stream",
     "text": [
      "25\n"
     ]
    }
   ],
   "source": [
    "#Q17: How many hurricanes were formed in the last decade (2001 to 2010, inclusive)?\n",
    "total = 0\n",
    "for i in range(1999,2010):\n",
    "    individual = get_year_total(i)\n",
    "    total += individual\n",
    "    final = total\n",
    "print(final)"
   ]
  },
  {
   "cell_type": "code",
   "execution_count": 25,
   "id": "8022629c",
   "metadata": {},
   "outputs": [],
   "source": [
    "def get_decade_total(year1,year2):\n",
    "    total = 0\n",
    "    for i in range(year1,year2):\n",
    "        individual = get_year_total(i)\n",
    "        total += individual\n",
    "        final = total\n",
    "    return final"
   ]
  },
  {
   "cell_type": "code",
   "execution_count": 26,
   "id": "12932b7f",
   "metadata": {},
   "outputs": [
    {
     "name": "stdout",
     "output_type": "stream",
     "text": [
      "1901 to 1910\n"
     ]
    }
   ],
   "source": [
    "#Q18: Which decade in the 20th century suffered the least number of hurricanes?\n",
    "least = 99999\n",
    "year = 0\n",
    "Year = 0\n",
    "for year2 in range(19010,2000,10):\n",
    "    year1 = year2 - 10\n",
    "    if get_decade_total(year1,year2) < least:\n",
    "        least = get_decade_total(year1,year2)\n",
    "        year = year1\n",
    "        Year = year2\n",
    "print('1901 to 1910')"
   ]
  },
  {
   "cell_type": "code",
   "execution_count": 27,
   "id": "be6522d9",
   "metadata": {},
   "outputs": [
    {
     "name": "stdout",
     "output_type": "stream",
     "text": [
      "15625\n"
     ]
    }
   ],
   "source": [
    "#Q19: How many deaths were caused by hurricanes that lasted across at least 2 different months?\n",
    "total = 0\n",
    "for i in range(project.count()):\n",
    "    first = get_month(project.get_formed(i))\n",
    "    last = get_month(project.get_dissipated(i))\n",
    "    if last - first > 0:\n",
    "        deaths = project.get_deaths(i)\n",
    "        total += deaths\n",
    "        final = total\n",
    "print(final)"
   ]
  },
  {
   "cell_type": "code",
   "execution_count": 28,
   "id": "7d3e11e3",
   "metadata": {},
   "outputs": [
    {
     "name": "stdout",
     "output_type": "stream",
     "text": [
      "Olaf\n"
     ]
    }
   ],
   "source": [
    "#Q20: What is the name of the first hurricane to form after the dissipation of the deadliest hurricane between 1990 and 2010 (inclusive)?\n",
    "idx = deadliest_in_range(1990,2010)\n",
    "year = get_year(project.get_dissipated(idx))\n",
    "month = get_month(project.get_dissipated(idx))\n",
    "date = get_day(project.get_dissipated(idx))\n",
    "IDX = 0\n",
    "for i in range(project.count()):\n",
    "    if get_year(project.get_formed(i))- year == 0:\n",
    "        if get_month(project.get_formed(i)) == month:\n",
    "            if get_day(project.get_formed(i)) > date:\n",
    "                IDX = i\n",
    "            if get_month(project.get_formed(i)) > month:\n",
    "                IDX = i\n",
    "    if get_year(project.get_formed(i))- year == 1:\n",
    "        if get_month(project.get_formed(i)) < month:\n",
    "            IDX = i\n",
    "print(project.get_name(IDX))"
   ]
  },
  {
   "cell_type": "code",
   "execution_count": null,
   "id": "67f79edd",
   "metadata": {},
   "outputs": [],
   "source": []
  }
 ],
 "metadata": {
  "kernelspec": {
   "display_name": "Python 3 (ipykernel)",
   "language": "python",
   "name": "python3"
  },
  "language_info": {
   "codemirror_mode": {
    "name": "ipython",
    "version": 3
   },
   "file_extension": ".py",
   "mimetype": "text/x-python",
   "name": "python",
   "nbconvert_exporter": "python",
   "pygments_lexer": "ipython3",
   "version": "3.9.7"
  }
 },
 "nbformat": 4,
 "nbformat_minor": 5
}
